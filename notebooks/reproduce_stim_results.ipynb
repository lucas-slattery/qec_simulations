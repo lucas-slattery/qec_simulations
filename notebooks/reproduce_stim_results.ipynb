{
 "cells": [
  {
   "cell_type": "code",
   "execution_count": 1,
   "id": "24ced03b",
   "metadata": {},
   "outputs": [],
   "source": [
    "import sys\n",
    "sys.path.append(\"/home/lucas.slattery/clean_repo/qec_simulations/\")\n",
    "from codes_constructions.stabilizer_code_factory import StabilizerCodeFactory\n",
    "\n",
    "from codes_constructions.circuit_models import (\n",
    "    SeqOperationConstraints,\n",
    ")\n",
    "from qec.core import build_noiseless_code_circuit, map_result_to_stim_output\n",
    "import stim\n",
    "import stimcirq\n",
    "from ionq.qcircuitsim.qcircuit_simulator.qcircuit_simulator import QCircuitSimulator\n",
    "from ionq.qcircuitsim.qcircuit_simulator.qcircuit_simulator_options import QCircuitSimulatorOptions\n",
    "from ionq.qcircuitsim.core.common import SimulationMethod, Backend\n",
    "from ionq.qcircuitsim.backends.cirq.cirq_circuit import CirqCircuit\n",
    "import numpy as np\n",
    "import qsimcirq"
   ]
  },
  {
   "cell_type": "code",
   "execution_count": 2,
   "id": "4fad6022-4eae-4648-a0ad-0ad7df32c8fc",
   "metadata": {},
   "outputs": [],
   "source": [
    "valid_bb_code_parameters = StabilizerCodeFactory.build_bivariate_bicycle_code_valid_parameters()\n",
    "\n",
    "bb_code_parameters = valid_bb_code_parameters[0]\n",
    "constraints = SeqOperationConstraints(num_simul_CNOTs=1, num_ancillas=1)\n",
    "code = StabilizerCodeFactory.build_bivariate_bicycle_code(*bb_code_parameters)"
   ]
  },
  {
   "cell_type": "code",
   "execution_count": 3,
   "id": "c785ac34",
   "metadata": {},
   "outputs": [],
   "source": [
    "circuit = build_noiseless_code_circuit(code,constraints)\n",
    "cirq_circuit = stimcirq.stim_circuit_to_cirq_circuit(circuit)"
   ]
  },
  {
   "cell_type": "code",
   "execution_count": 4,
   "id": "f4691757",
   "metadata": {},
   "outputs": [],
   "source": [
    "stim_measurements = circuit.compile_sampler().sample(shots=100)"
   ]
  },
  {
   "cell_type": "code",
   "execution_count": 5,
   "id": "9db3553d-863e-45ce-99ed-31518db507ed",
   "metadata": {},
   "outputs": [],
   "source": [
    "options = QCircuitSimulatorOptions(simulation_method=SimulationMethod.STATEVECTOR, num_shots=100)\n",
    "sim = QCircuitSimulator(backend=Backend.QSIM, options=options)\n",
    "backend_circuit = CirqCircuit(circuit = cirq_circuit)"
   ]
  },
  {
   "cell_type": "code",
   "execution_count": 6,
   "id": "bafb3a7f-da02-40b0-b069-81d9570c3110",
   "metadata": {},
   "outputs": [],
   "source": [
    "result = sim.measure(backend_circuit)"
   ]
  },
  {
   "cell_type": "code",
   "execution_count": 7,
   "id": "a2a89e48-faa5-4c16-8e04-e4f1d342be85",
   "metadata": {},
   "outputs": [],
   "source": [
    "stim_like_result = map_result_to_stim_output(result)"
   ]
  },
  {
   "cell_type": "code",
   "execution_count": 10,
   "id": "33b03012-e600-4159-b77b-9ba74076145a",
   "metadata": {},
   "outputs": [],
   "source": [
    "test = stim_like_result == stim_measurements"
   ]
  },
  {
   "cell_type": "code",
   "execution_count": 23,
   "id": "6cdda959-f11c-4c37-b70c-e3bfa3bec035",
   "metadata": {},
   "outputs": [
    {
     "data": {
      "text/plain": [
       "array([[ True,  True,  True, ..., False,  True, False],\n",
       "       [ True,  True,  True, ..., False, False,  True],\n",
       "       [ True, False,  True, ..., False, False, False],\n",
       "       ...,\n",
       "       [ True, False,  True, ...,  True, False, False],\n",
       "       [ True, False,  True, ..., False, False,  True],\n",
       "       [ True, False,  True, ..., False,  True, False]])"
      ]
     },
     "execution_count": 23,
     "metadata": {},
     "output_type": "execute_result"
    }
   ],
   "source": [
    "test"
   ]
  },
  {
   "cell_type": "code",
   "execution_count": null,
   "id": "a5390016-e180-468c-b2f9-018adf5b6906",
   "metadata": {},
   "outputs": [],
   "source": []
  }
 ],
 "metadata": {
  "kernelspec": {
   "display_name": "Python 3 (ipykernel)",
   "language": "python",
   "name": "python3"
  }
 },
 "nbformat": 4,
 "nbformat_minor": 5
}
