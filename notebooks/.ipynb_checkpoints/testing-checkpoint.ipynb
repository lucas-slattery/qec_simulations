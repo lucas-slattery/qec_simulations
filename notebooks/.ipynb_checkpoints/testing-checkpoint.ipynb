{
 "cells": [
  {
   "cell_type": "code",
   "execution_count": 35,
   "id": "24ced03b",
   "metadata": {},
   "outputs": [],
   "source": [
    "import sys\n",
    "sys.path.append(\"/home/lucas.slattery/clean_repo/qec_simulations/\")\n",
    "from codes_constructions.stabilizer_code_factory import StabilizerCodeFactory\n",
    "\n",
    "from codes_constructions.circuit_models import (\n",
    "    SeqOperationConstraints,\n",
    ")\n",
    "from qec.core import build_noiseless_code_circuit, map_result_to_stim_output\n",
    "import stim\n",
    "import stimcirq\n",
    "from ionq.qcircuitsim.qcircuit_simulator.qcircuit_simulator import QCircuitSimulator\n",
    "from ionq.qcircuitsim.qcircuit_simulator.qcircuit_simulator_options import QCircuitSimulatorOptions\n",
    "from ionq.qcircuitsim.core.common import SimulationMethod, Backend\n",
    "from ionq.qcircuitsim.backends.cirq.cirq_circuit import CirqCircuit\n",
    "import numpy as np\n",
    "import qsimcirq"
   ]
  },
  {
   "cell_type": "code",
   "execution_count": 36,
   "id": "4fad6022-4eae-4648-a0ad-0ad7df32c8fc",
   "metadata": {},
   "outputs": [],
   "source": [
    "valid_bb_code_parameters = StabilizerCodeFactory.build_bivariate_bicycle_code_valid_parameters()\n",
    "\n",
    "bb_code_parameters = valid_bb_code_parameters[0]\n",
    "constraints = SeqOperationConstraints(num_simul_CNOTs=1, num_ancillas=1)\n",
    "code = StabilizerCodeFactory.build_bivariate_bicycle_code(*bb_code_parameters)"
   ]
  },
  {
   "cell_type": "code",
   "execution_count": 37,
   "id": "c785ac34",
   "metadata": {},
   "outputs": [],
   "source": [
    "circuit = build_noiseless_code_circuit(code,constraints)\n",
    "cirq_circuit = stimcirq.stim_circuit_to_cirq_circuit(circuit)"
   ]
  },
  {
   "cell_type": "code",
   "execution_count": 38,
   "id": "f4691757",
   "metadata": {},
   "outputs": [],
   "source": [
    "stim_measurements = circuit.compile_sampler().sample(shots=100)"
   ]
  },
  {
   "cell_type": "code",
   "execution_count": 39,
   "id": "9db3553d-863e-45ce-99ed-31518db507ed",
   "metadata": {},
   "outputs": [],
   "source": [
    "options = QCircuitSimulatorOptions(simulation_method=SimulationMethod.STATEVECTOR, num_shots=100)\n",
    "sim = QCircuitSimulator(backend=Backend.QSIM, options=options)\n",
    "backend_circuit = CirqCircuit(circuit = cirq_circuit)"
   ]
  },
  {
   "cell_type": "code",
   "execution_count": 83,
   "id": "d896ce71-02cb-463d-bb97-3c79cc5b9c12",
   "metadata": {},
   "outputs": [],
   "source": [
    "keys = sorted([key for key in result.measurements.keys() if key.isnumeric()], key = int)"
   ]
  },
  {
   "cell_type": "code",
   "execution_count": null,
   "id": "b2ca94fe-4277-4080-aeda-083cb5e9665d",
   "metadata": {},
   "outputs": [],
   "source": []
  },
  {
   "cell_type": "code",
   "execution_count": 84,
   "id": "2743973f-d974-4fc5-b2fb-3ca828520a96",
   "metadata": {},
   "outputs": [],
   "source": [
    "m = np.bool_(np.array([result.measurements[key].reshape(-1) for key in keys]).reshape(-1,len(keys)))"
   ]
  },
  {
   "cell_type": "code",
   "execution_count": 85,
   "id": "b0a31b42-5b7e-466c-8e2a-dffd050260db",
   "metadata": {},
   "outputs": [],
   "source": [
    "m2 = stim_measurements"
   ]
  },
  {
   "cell_type": "code",
   "execution_count": 102,
   "id": "06d39619-d1c9-41af-9181-cf367d8a1d99",
   "metadata": {},
   "outputs": [],
   "source": [
    "m = np.zeros_like(m2,dtype=np.bool_)\n",
    "for i, key in enumerate(keys):\n",
    "    m[:,i] = np.bool_(np.array([result.measurements[key].reshape(-1)]))"
   ]
  },
  {
   "cell_type": "code",
   "execution_count": 103,
   "id": "d282f038-f639-49e0-9244-4fcbd5adf5ab",
   "metadata": {},
   "outputs": [
    {
     "data": {
      "text/plain": [
       "(100, 72)"
      ]
     },
     "execution_count": 103,
     "metadata": {},
     "output_type": "execute_result"
    }
   ],
   "source": [
    "m2.shape"
   ]
  },
  {
   "cell_type": "code",
   "execution_count": 104,
   "id": "f8da83ce-b252-41ff-b301-bac902b1859a",
   "metadata": {},
   "outputs": [
    {
     "data": {
      "text/plain": [
       "array([[False,  True, False, ...,  True, False,  True],\n",
       "       [False,  True, False, ..., False,  True, False],\n",
       "       [False,  True, False, ..., False, False,  True],\n",
       "       ...,\n",
       "       [False, False, False, ..., False, False, False],\n",
       "       [False, False, False, ..., False, False,  True],\n",
       "       [False, False, False, ...,  True, False,  True]])"
      ]
     },
     "execution_count": 104,
     "metadata": {},
     "output_type": "execute_result"
    }
   ],
   "source": [
    "m"
   ]
  },
  {
   "cell_type": "code",
   "execution_count": null,
   "id": "bafb3a7f-da02-40b0-b069-81d9570c3110",
   "metadata": {},
   "outputs": [],
   "source": []
  }
 ],
 "metadata": {
  "kernelspec": {
   "display_name": "system_performance",
   "language": "python",
   "name": "system_performance"
  },
  "language_info": {
   "codemirror_mode": {
    "name": "ipython",
    "version": 3
   },
   "file_extension": ".py",
   "mimetype": "text/x-python",
   "name": "python",
   "nbconvert_exporter": "python",
   "pygments_lexer": "ipython3",
   "version": "3.12.10"
  }
 },
 "nbformat": 4,
 "nbformat_minor": 5
}
